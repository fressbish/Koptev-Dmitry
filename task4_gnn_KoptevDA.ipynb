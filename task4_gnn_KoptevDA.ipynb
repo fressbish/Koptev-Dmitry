{
  "nbformat": 4,
  "nbformat_minor": 0,
  "metadata": {
    "colab": {
      "provenance": [],
      "include_colab_link": true
    },
    "kernelspec": {
      "name": "python3",
      "display_name": "Python 3"
    },
    "language_info": {
      "name": "python"
    }
  },
  "cells": [
    {
      "cell_type": "markdown",
      "metadata": {
        "id": "view-in-github",
        "colab_type": "text"
      },
      "source": [
        "<a href=\"https://colab.research.google.com/github/fressbish/Koptev-Dmitry/blob/main/task4_gnn_KoptevDA.ipynb\" target=\"_parent\"><img src=\"https://colab.research.google.com/assets/colab-badge.svg\" alt=\"Open In Colab\"/></a>"
      ]
    },
    {
      "cell_type": "markdown",
      "source": [
        "## Коптев Д.А., GNN, Задание 4"
      ],
      "metadata": {
        "id": "SpZdlgW05Jgq"
      }
    },
    {
      "cell_type": "markdown",
      "source": [
        "# Задача 4. Graph Attention Network\n",
        "\n",
        "- Найти графовый набор данных для решения задачи предсказания (классификация вершин, обнаружение сообществ и т.д.).\n",
        "- Использовать несколько слоев GATConv из библиотеки PyG для построения GAT модели.\n",
        "- Обучить полученную модель, подобрать гиперпараметры (например, learning rate) на валидационной выборке, и оценить качество предсказания на тестовой выборке.\n",
        "- (+5 баллов) Также найти набор данных, с помощью которого можно получить гетерогенный граф. Использовать несколько слоев RGATConv из библиотеки PyG для построения Relational GAT модели. Разбить данные на тренировочные/валидационные/тестовые с помощью средств PyG, например RandomLinkSplit для задачи Link Prediction. Обучить полученную модель, подобрать гиперпараметры (например, learning rate, multi-head attention) на валидационной выборке, и оценить качество предсказания на тестовой выборке."
      ],
      "metadata": {
        "id": "Ouc4fJkDSUNd"
      }
    },
    {
      "cell_type": "code",
      "execution_count": 1,
      "metadata": {
        "id": "cXn5CHqxSQMO"
      },
      "outputs": [],
      "source": [
        "# !pip install torch-geometric"
      ]
    },
    {
      "cell_type": "code",
      "source": [
        "import torch\n",
        "from torch_geometric.datasets import Planetoid\n",
        "from torch_geometric.transforms import NormalizeFeatures\n",
        "from torch_geometric.transforms import RandomLinkSplit\n",
        "from torch_geometric.loader import DataLoader\n",
        "from torch_geometric.nn import RGATConv\n",
        "import torch.nn.functional as F\n",
        "from torch.nn.functional import binary_cross_entropy_with_logits\n",
        "\n",
        "from torch.nn import Linear\n",
        "from torch_geometric.nn import GATConv\n",
        "\n",
        "from torch_geometric.loader import DataLoader\n",
        "from torch.optim import Adam\n",
        "from torch.nn.functional import cross_entropy\n",
        "\n",
        "from tqdm import tqdm\n",
        "from itertools import product\n",
        "from sklearn.metrics import roc_auc_score, average_precision_score"
      ],
      "metadata": {
        "id": "zKGzQbxX5iw6"
      },
      "execution_count": 2,
      "outputs": []
    },
    {
      "cell_type": "code",
      "source": [
        "dataset = Planetoid(root='data/Planetoid', name='Cora', transform=NormalizeFeatures())\n",
        "graph_data = dataset[0]\n",
        "\n",
        "# разбиваем на тренировочную, валидационную и тестовую выборки\n",
        "total_nodes = graph_data.num_nodes\n",
        "train_split = int(0.6 * total_nodes)\n",
        "val_split = int(0.8 * total_nodes)\n",
        "\n",
        "graph_data.train_mask = torch.zeros(total_nodes, dtype=torch.bool)\n",
        "graph_data.train_mask[:train_split] = True\n",
        "\n",
        "graph_data.val_mask = torch.zeros(total_nodes, dtype=torch.bool)\n",
        "graph_data.val_mask[train_split:val_split] = True\n",
        "\n",
        "graph_data.test_mask = torch.zeros(total_nodes, dtype=torch.bool)\n",
        "graph_data.test_mask[val_split:] = True\n",
        "\n",
        "total_nodes, graph_data.num_edges"
      ],
      "metadata": {
        "colab": {
          "base_uri": "https://localhost:8080/"
        },
        "id": "6LgGR1wRSe0A",
        "outputId": "ec3ce8e9-17f6-4b2f-c8a2-b443bf9a3043"
      },
      "execution_count": 3,
      "outputs": [
        {
          "output_type": "execute_result",
          "data": {
            "text/plain": [
              "(2708, 10556)"
            ]
          },
          "metadata": {},
          "execution_count": 3
        }
      ]
    },
    {
      "cell_type": "markdown",
      "source": [
        "### GAT-модель"
      ],
      "metadata": {
        "id": "RWm7eoKTZ0_0"
      }
    },
    {
      "cell_type": "code",
      "source": [
        "class GAT(torch.nn.Module):\n",
        "    def __init__(self, in_features, hidden_dim, output_dim, num_heads=1):\n",
        "        super().__init__()\n",
        "        # первый слой GAT\n",
        "        self.gat1 = GATConv(in_features, hidden_dim, heads=num_heads)\n",
        "        # второй слой GAT\n",
        "        self.gat2 = GATConv(hidden_dim * num_heads, output_dim, heads=1)\n",
        "        # финальный классификатор\n",
        "        self.fc = Linear(output_dim, dataset.num_classes)\n",
        "\n",
        "    def forward(self, features, edges):\n",
        "        h = self.gat1(features, edges).relu()  # активация ReLU\n",
        "        h = self.gat2(h, edges).relu()  # второй слой\n",
        "        logits = self.fc(h)  # предсказания\n",
        "        return logits"
      ],
      "metadata": {
        "id": "kvt6tWO1Sml7"
      },
      "execution_count": 4,
      "outputs": []
    },
    {
      "cell_type": "code",
      "source": [
        "# тренировочная функция\n",
        "def train(model, data, optimizer, loss_fn):\n",
        "    model.train()\n",
        "    optimizer.zero_grad()\n",
        "    predictions = model(data.x, data.edge_index)\n",
        "    loss = loss_fn(predictions[data.train_mask], data.y[data.train_mask])\n",
        "    loss.backward()\n",
        "    optimizer.step()\n",
        "    return loss.item()\n",
        "\n",
        "# функция для оценки точности\n",
        "def accuracy(model, data, mask):\n",
        "    model.eval()\n",
        "    predictions = model(data.x, data.edge_index).argmax(dim=1)\n",
        "    correct = (predictions[mask] == data.y[mask]).sum()\n",
        "    return int(correct) / int(mask.sum())"
      ],
      "metadata": {
        "id": "yRLCBreJA8oc"
      },
      "execution_count": 5,
      "outputs": []
    },
    {
      "cell_type": "code",
      "source": [
        "device = torch.device(\"cuda\" if torch.cuda.is_available() else \"cpu\")\n",
        "graph_data = graph_data.to(device)"
      ],
      "metadata": {
        "id": "wYoYChyUAyIX"
      },
      "execution_count": 6,
      "outputs": []
    },
    {
      "cell_type": "code",
      "source": [
        "# гиперпараметры\n",
        "hidden_dims = [8, 16, 32]\n",
        "learning_rates = [0.1, 0.05, 0.01]\n",
        "\n",
        "best_config = None\n",
        "best_val_acc = 0\n",
        "\n",
        "for dim in hidden_dims:\n",
        "    for lr in learning_rates:\n",
        "        # создаем новую модель\n",
        "        model = GAT(graph_data.num_features, dim, dim).to(device)\n",
        "        optimizer = Adam(model.parameters(), lr=lr)\n",
        "        criterion = torch.nn.CrossEntropyLoss()\n",
        "\n",
        "        # обучение\n",
        "        for epoch in tqdm(range(1, 101)):\n",
        "            train_loss = train(model, graph_data, optimizer, criterion)\n",
        "\n",
        "        # проверка на валидации\n",
        "        val_acc = accuracy(model, graph_data, graph_data.val_mask)\n",
        "        print(f\"Hidden Dim: {dim}, LR: {lr}, Val Accuracy: {val_acc:.4f}\")\n",
        "\n",
        "        # сохраняем лучшую конфигурацию\n",
        "        if val_acc > best_val_acc:\n",
        "            best_val_acc = val_acc\n",
        "            best_config = {\"hidden_dim\": dim, \"lr\": lr}"
      ],
      "metadata": {
        "colab": {
          "base_uri": "https://localhost:8080/"
        },
        "id": "RT7ODUQbTN4L",
        "outputId": "804588ec-96ba-4d09-b744-66ad391f6d78"
      },
      "execution_count": 7,
      "outputs": [
        {
          "output_type": "stream",
          "name": "stderr",
          "text": [
            "100%|██████████| 100/100 [00:05<00:00, 18.56it/s]\n"
          ]
        },
        {
          "output_type": "stream",
          "name": "stdout",
          "text": [
            "Hidden Dim: 8, LR: 0.1, Val Accuracy: 0.7897\n"
          ]
        },
        {
          "output_type": "stream",
          "name": "stderr",
          "text": [
            "100%|██████████| 100/100 [00:07<00:00, 13.24it/s]\n"
          ]
        },
        {
          "output_type": "stream",
          "name": "stdout",
          "text": [
            "Hidden Dim: 8, LR: 0.05, Val Accuracy: 0.7768\n"
          ]
        },
        {
          "output_type": "stream",
          "name": "stderr",
          "text": [
            "100%|██████████| 100/100 [00:02<00:00, 34.19it/s]\n"
          ]
        },
        {
          "output_type": "stream",
          "name": "stdout",
          "text": [
            "Hidden Dim: 8, LR: 0.01, Val Accuracy: 0.8118\n"
          ]
        },
        {
          "output_type": "stream",
          "name": "stderr",
          "text": [
            "100%|██████████| 100/100 [00:03<00:00, 29.73it/s]\n"
          ]
        },
        {
          "output_type": "stream",
          "name": "stdout",
          "text": [
            "Hidden Dim: 16, LR: 0.1, Val Accuracy: 0.7970\n"
          ]
        },
        {
          "output_type": "stream",
          "name": "stderr",
          "text": [
            "100%|██████████| 100/100 [00:03<00:00, 25.58it/s]\n"
          ]
        },
        {
          "output_type": "stream",
          "name": "stdout",
          "text": [
            "Hidden Dim: 16, LR: 0.05, Val Accuracy: 0.8118\n"
          ]
        },
        {
          "output_type": "stream",
          "name": "stderr",
          "text": [
            "100%|██████████| 100/100 [00:03<00:00, 31.36it/s]\n"
          ]
        },
        {
          "output_type": "stream",
          "name": "stdout",
          "text": [
            "Hidden Dim: 16, LR: 0.01, Val Accuracy: 0.8303\n"
          ]
        },
        {
          "output_type": "stream",
          "name": "stderr",
          "text": [
            "100%|██████████| 100/100 [00:03<00:00, 27.23it/s]\n"
          ]
        },
        {
          "output_type": "stream",
          "name": "stdout",
          "text": [
            "Hidden Dim: 32, LR: 0.1, Val Accuracy: 0.8063\n"
          ]
        },
        {
          "output_type": "stream",
          "name": "stderr",
          "text": [
            "100%|██████████| 100/100 [00:04<00:00, 24.94it/s]\n"
          ]
        },
        {
          "output_type": "stream",
          "name": "stdout",
          "text": [
            "Hidden Dim: 32, LR: 0.05, Val Accuracy: 0.8192\n"
          ]
        },
        {
          "output_type": "stream",
          "name": "stderr",
          "text": [
            "100%|██████████| 100/100 [00:05<00:00, 19.84it/s]"
          ]
        },
        {
          "output_type": "stream",
          "name": "stdout",
          "text": [
            "Hidden Dim: 32, LR: 0.01, Val Accuracy: 0.8339\n"
          ]
        },
        {
          "output_type": "stream",
          "name": "stderr",
          "text": [
            "\n"
          ]
        }
      ]
    },
    {
      "cell_type": "code",
      "source": [
        "# обучим модель\n",
        "print(best_config)\n",
        "best_dim = best_config[\"hidden_dim\"]\n",
        "best_lr = best_config[\"lr\"]\n",
        "\n",
        "model = GAT(graph_data.num_features, best_dim, best_dim).to(device)\n",
        "optimizer = Adam(model.parameters(), lr=best_lr)\n",
        "criterion = torch.nn.CrossEntropyLoss()"
      ],
      "metadata": {
        "id": "js7vWIp9S-wp",
        "colab": {
          "base_uri": "https://localhost:8080/"
        },
        "outputId": "49dd54b2-cb29-4fed-b5a1-54754b47dc0c"
      },
      "execution_count": 8,
      "outputs": [
        {
          "output_type": "stream",
          "name": "stdout",
          "text": [
            "{'hidden_dim': 32, 'lr': 0.01}\n"
          ]
        }
      ]
    },
    {
      "cell_type": "code",
      "source": [
        "max_epochs = 100\n",
        "print(\"\\nTraining final model...\")\n",
        "for epoch in range(max_epochs):\n",
        "    loss = train(model, graph_data, optimizer, criterion)\n",
        "    if epoch % 10 == 0:\n",
        "        print(f\"Epoch: {epoch}, Loss: {loss:.4f}\")"
      ],
      "metadata": {
        "colab": {
          "base_uri": "https://localhost:8080/"
        },
        "id": "QrXxX4czB7tG",
        "outputId": "5edcbec1-8147-44df-acb8-96f26d8c3b90"
      },
      "execution_count": 9,
      "outputs": [
        {
          "output_type": "stream",
          "name": "stdout",
          "text": [
            "\n",
            "Training final model...\n",
            "Epoch: 0, Loss: 1.9894\n",
            "Epoch: 10, Loss: 1.7795\n",
            "Epoch: 20, Loss: 1.5304\n",
            "Epoch: 30, Loss: 1.0829\n",
            "Epoch: 40, Loss: 0.7330\n",
            "Epoch: 50, Loss: 0.4613\n",
            "Epoch: 60, Loss: 0.2686\n",
            "Epoch: 70, Loss: 0.1633\n",
            "Epoch: 80, Loss: 0.1036\n",
            "Epoch: 90, Loss: 0.0656\n"
          ]
        }
      ]
    },
    {
      "cell_type": "code",
      "source": [
        "accuracy(model, graph_data, graph_data.val_mask), accuracy(model, graph_data, graph_data.test_mask)"
      ],
      "metadata": {
        "colab": {
          "base_uri": "https://localhost:8080/"
        },
        "id": "-75LnVoGXpTA",
        "outputId": "9f887b19-e82a-43f9-bc3a-edebf1bc969a"
      },
      "execution_count": 10,
      "outputs": [
        {
          "output_type": "execute_result",
          "data": {
            "text/plain": [
              "(0.8081180811808119, 0.8634686346863468)"
            ]
          },
          "metadata": {},
          "execution_count": 10
        }
      ]
    },
    {
      "cell_type": "markdown",
      "source": [
        "Получили неплохое качество, 81% на валидационных данных и 86% на тестовых данных"
      ],
      "metadata": {
        "id": "xXUsOaj7M1YG"
      }
    },
    {
      "cell_type": "code",
      "source": [],
      "metadata": {
        "id": "yNMkI3QS6ViD"
      },
      "execution_count": 10,
      "outputs": []
    },
    {
      "cell_type": "code",
      "source": [],
      "metadata": {
        "id": "2xc-YBFa6VkZ"
      },
      "execution_count": 10,
      "outputs": []
    },
    {
      "cell_type": "code",
      "source": [],
      "metadata": {
        "id": "eg775Mhg6Vml"
      },
      "execution_count": 10,
      "outputs": []
    },
    {
      "cell_type": "markdown",
      "source": [
        "## 2 часть. Relational GAT"
      ],
      "metadata": {
        "id": "hAYluEqRLaYJ"
      }
    },
    {
      "cell_type": "code",
      "source": [
        "dataset = Planetoid(root='data/Planetoid', name='Citeseer')\n",
        "graph_data = dataset[0]"
      ],
      "metadata": {
        "id": "JkvPyeeEIrQf"
      },
      "execution_count": 11,
      "outputs": []
    },
    {
      "cell_type": "code",
      "source": [
        "# разбиваем данные на train/val/test\n",
        "splitter = RandomLinkSplit(\n",
        "    num_val=0.1,\n",
        "    num_test=0.1,\n",
        "    is_undirected=True,\n",
        "    add_negative_train_samples=True,\n",
        ")\n",
        "train_graph, val_graph, test_graph = splitter(graph_data)\n",
        "\n",
        "print(\"Train data:\", train_graph)\n",
        "print(\"Validation data:\", val_graph)\n",
        "print(\"Test data:\", test_graph)"
      ],
      "metadata": {
        "id": "sXrLxpyIg65g",
        "colab": {
          "base_uri": "https://localhost:8080/"
        },
        "outputId": "09b910b9-d9ff-44dc-e8af-56237a8e1131"
      },
      "execution_count": 12,
      "outputs": [
        {
          "output_type": "stream",
          "name": "stdout",
          "text": [
            "Train data: Data(x=[3327, 3703], edge_index=[2, 7284], y=[3327], train_mask=[3327], val_mask=[3327], test_mask=[3327], edge_label=[7284], edge_label_index=[2, 7284])\n",
            "Validation data: Data(x=[3327, 3703], edge_index=[2, 7284], y=[3327], train_mask=[3327], val_mask=[3327], test_mask=[3327], edge_label=[910], edge_label_index=[2, 910])\n",
            "Test data: Data(x=[3327, 3703], edge_index=[2, 8194], y=[3327], train_mask=[3327], val_mask=[3327], test_mask=[3327], edge_label=[910], edge_label_index=[2, 910])\n"
          ]
        }
      ]
    },
    {
      "cell_type": "markdown",
      "source": [
        "## Строим модель"
      ],
      "metadata": {
        "id": "oInCUwbqPDBn"
      }
    },
    {
      "cell_type": "code",
      "source": [
        "class RelGAT(torch.nn.Module):\n",
        "    def __init__(self, in_channels, hidden_dim, out_dim, num_rels):\n",
        "        super().__init__()\n",
        "        self.rgat1 = RGATConv(in_channels, hidden_dim, num_relations=num_rels)\n",
        "        self.rgat2 = RGATConv(hidden_dim, out_dim, num_relations=num_rels)\n",
        "        self.predictor = torch.nn.Linear(out_dim, 1)\n",
        "\n",
        "    def forward(self, x, edge_index, edge_types):\n",
        "        x = torch.relu(self.rgat1(x, edge_index, edge_types))\n",
        "        x = self.rgat2(x, edge_index, edge_types)\n",
        "        return self.predictor(x)"
      ],
      "metadata": {
        "id": "fivDV3EkDYnf"
      },
      "execution_count": 13,
      "outputs": []
    },
    {
      "cell_type": "code",
      "source": [
        "device = torch.device(\"cuda\" if torch.cuda.is_available() else \"cpu\")\n",
        "train_graph = train_graph.to(device)\n",
        "val_graph = val_graph.to(device)\n",
        "test_graph = test_graph.to(device)"
      ],
      "metadata": {
        "id": "gKNVCG24OX-o"
      },
      "execution_count": 14,
      "outputs": []
    },
    {
      "cell_type": "code",
      "source": [
        "# гиперпараметры\n",
        "hidden_dims = [8, 16, 32]\n",
        "learning_rates = [0.1, 0.05, 0.01]\n",
        "results = []\n",
        "\n",
        "for hidden_dim, learning_rate in product(hidden_dims, learning_rates):\n",
        "    print(f\"hidden_dim={hidden_dim}, learning_rate={learning_rate}\")\n",
        "    model = RelGAT(\n",
        "        in_channels=graph_data.num_features,\n",
        "        hidden_dim=hidden_dim,\n",
        "        out_dim=16,\n",
        "        num_rels=1,  # для сiteseer используем 1 тип ребер\n",
        "    ).to(device)\n",
        "\n",
        "    # настройка оптимизатора и функции потерь\n",
        "    optimizer = torch.optim.Adam(model.parameters(), lr=learning_rate)\n",
        "    criterion = torch.nn.BCEWithLogitsLoss()\n",
        "\n",
        "    # обучение\n",
        "    model.train()\n",
        "    for epoch in tqdm(range(1, 11)): # уменьшим кол-во эпох, иначе слишком долго идет обучение\n",
        "        optimizer.zero_grad()\n",
        "        # Forward pass\n",
        "        pred = model(\n",
        "            train_graph.x,\n",
        "            train_graph.edge_index,\n",
        "            torch.zeros(train_graph.edge_index.size(1), dtype=torch.long).to(device),\n",
        "        )\n",
        "        pred = pred[train_graph.edge_label_index[0]].squeeze()\n",
        "        loss = criterion(pred, train_graph.edge_label.float())\n",
        "        loss.backward()\n",
        "        optimizer.step()\n",
        "\n",
        "    # Оценка на тестовом наборе\n",
        "    model.eval()\n",
        "    with torch.no_grad():\n",
        "        test_pred = model(\n",
        "            test_graph.x,\n",
        "            test_graph.edge_index,\n",
        "            torch.zeros(test_graph.edge_index.size(1), dtype=torch.long).to(device),\n",
        "        )\n",
        "        test_pred = test_pred[test_graph.edge_label_index[0]].squeeze().cpu().numpy()\n",
        "        test_labels = test_graph.edge_label.cpu().numpy()\n",
        "\n",
        "    # считаем качество\n",
        "    auc_score = roc_auc_score(test_labels, test_pred)\n",
        "    avg_precision = average_precision_score(test_labels, test_pred)\n",
        "    print(f\"Results: Hidden_dim={hidden_dim}, LR={learning_rate}, AUC-ROC={auc_score:.4f}, AP={avg_precision:.4f}\")\n",
        "\n",
        "    results.append({\n",
        "        \"hidden_dim\": hidden_dim,\n",
        "        \"learning_rate\": learning_rate,\n",
        "        \"auc_score\": auc_score,\n",
        "        \"avg_precision\": avg_precision,\n",
        "    })"
      ],
      "metadata": {
        "colab": {
          "base_uri": "https://localhost:8080/"
        },
        "id": "vg8Ip5w2GOCi",
        "outputId": "f367abd2-6a3f-4b31-9253-59f129e08308"
      },
      "execution_count": 16,
      "outputs": [
        {
          "output_type": "stream",
          "name": "stdout",
          "text": [
            "hidden_dim=8, learning_rate=0.1\n"
          ]
        },
        {
          "output_type": "stream",
          "name": "stderr",
          "text": [
            "100%|██████████| 10/10 [00:51<00:00,  5.11s/it]\n"
          ]
        },
        {
          "output_type": "stream",
          "name": "stdout",
          "text": [
            "Results: Hidden_dim=8, LR=0.1, AUC-ROC=0.5177, AP=0.5285\n",
            "hidden_dim=8, learning_rate=0.05\n"
          ]
        },
        {
          "output_type": "stream",
          "name": "stderr",
          "text": [
            "100%|██████████| 10/10 [00:36<00:00,  3.63s/it]\n"
          ]
        },
        {
          "output_type": "stream",
          "name": "stdout",
          "text": [
            "Results: Hidden_dim=8, LR=0.05, AUC-ROC=0.5993, AP=0.6235\n",
            "hidden_dim=8, learning_rate=0.01\n"
          ]
        },
        {
          "output_type": "stream",
          "name": "stderr",
          "text": [
            "100%|██████████| 10/10 [00:30<00:00,  3.03s/it]\n"
          ]
        },
        {
          "output_type": "stream",
          "name": "stdout",
          "text": [
            "Results: Hidden_dim=8, LR=0.01, AUC-ROC=0.6093, AP=0.6390\n",
            "hidden_dim=16, learning_rate=0.1\n"
          ]
        },
        {
          "output_type": "stream",
          "name": "stderr",
          "text": [
            "100%|██████████| 10/10 [00:58<00:00,  5.86s/it]\n"
          ]
        },
        {
          "output_type": "stream",
          "name": "stdout",
          "text": [
            "Results: Hidden_dim=16, LR=0.1, AUC-ROC=0.5671, AP=0.5678\n",
            "hidden_dim=16, learning_rate=0.05\n"
          ]
        },
        {
          "output_type": "stream",
          "name": "stderr",
          "text": [
            "100%|██████████| 10/10 [01:09<00:00,  6.96s/it]\n"
          ]
        },
        {
          "output_type": "stream",
          "name": "stdout",
          "text": [
            "Results: Hidden_dim=16, LR=0.05, AUC-ROC=0.5855, AP=0.6212\n",
            "hidden_dim=16, learning_rate=0.01\n"
          ]
        },
        {
          "output_type": "stream",
          "name": "stderr",
          "text": [
            "100%|██████████| 10/10 [00:58<00:00,  5.88s/it]\n"
          ]
        },
        {
          "output_type": "stream",
          "name": "stdout",
          "text": [
            "Results: Hidden_dim=16, LR=0.01, AUC-ROC=0.6235, AP=0.6247\n",
            "hidden_dim=32, learning_rate=0.1\n"
          ]
        },
        {
          "output_type": "stream",
          "name": "stderr",
          "text": [
            "100%|██████████| 10/10 [01:49<00:00, 10.99s/it]\n"
          ]
        },
        {
          "output_type": "stream",
          "name": "stdout",
          "text": [
            "Results: Hidden_dim=32, LR=0.1, AUC-ROC=0.5819, AP=0.5524\n",
            "hidden_dim=32, learning_rate=0.05\n"
          ]
        },
        {
          "output_type": "stream",
          "name": "stderr",
          "text": [
            "100%|██████████| 10/10 [01:47<00:00, 10.77s/it]\n"
          ]
        },
        {
          "output_type": "stream",
          "name": "stdout",
          "text": [
            "Results: Hidden_dim=32, LR=0.05, AUC-ROC=0.6212, AP=0.6264\n",
            "hidden_dim=32, learning_rate=0.01\n"
          ]
        },
        {
          "output_type": "stream",
          "name": "stderr",
          "text": [
            "100%|██████████| 10/10 [01:49<00:00, 10.99s/it]\n"
          ]
        },
        {
          "output_type": "stream",
          "name": "stdout",
          "text": [
            "Results: Hidden_dim=32, LR=0.01, AUC-ROC=0.6294, AP=0.6294\n"
          ]
        }
      ]
    },
    {
      "cell_type": "code",
      "source": [
        "# выбираем лучшую конфигурацию\n",
        "best_config = max(results, key=lambda x: x[\"auc_score\"])\n",
        "best_config"
      ],
      "metadata": {
        "colab": {
          "base_uri": "https://localhost:8080/"
        },
        "id": "usNirQWdFbLQ",
        "outputId": "eeb6dd0c-fce9-4352-ac80-8f808b7bf6db"
      },
      "execution_count": 17,
      "outputs": [
        {
          "output_type": "execute_result",
          "data": {
            "text/plain": [
              "{'hidden_dim': 32,\n",
              " 'learning_rate': 0.01,\n",
              " 'auc_score': 0.6294070764400435,\n",
              " 'avg_precision': 0.6294409877745013}"
            ]
          },
          "metadata": {},
          "execution_count": 17
        }
      ]
    },
    {
      "cell_type": "code",
      "source": [
        "# финальное обучение на лучших параметрах\n",
        "best_model = RelGAT(\n",
        "    in_channels=graph_data.num_features,\n",
        "    hidden_dim=best_config[\"hidden_dim\"],\n",
        "    out_dim=16,\n",
        "    num_rels=1,\n",
        ").to(device)"
      ],
      "metadata": {
        "id": "ZY1uweM4Pb-O"
      },
      "execution_count": 18,
      "outputs": []
    },
    {
      "cell_type": "code",
      "source": [
        "optimizer = torch.optim.Adam(best_model.parameters(), lr=best_config[\"learning_rate\"])\n",
        "criterion = torch.nn.BCEWithLogitsLoss()\n",
        "\n",
        "best_model.train()\n",
        "for epoch in tqdm(range(1, 101)):\n",
        "    optimizer.zero_grad()\n",
        "    pred = best_model(\n",
        "        train_graph.x,\n",
        "        train_graph.edge_index,\n",
        "        torch.zeros(train_graph.edge_index.size(1), dtype=torch.long).to(device),\n",
        "    )\n",
        "    pred = pred[train_graph.edge_label_index[0]].squeeze()\n",
        "    loss = criterion(pred, train_graph.edge_label.float())\n",
        "    loss.backward()\n",
        "    optimizer.step()"
      ],
      "metadata": {
        "colab": {
          "base_uri": "https://localhost:8080/"
        },
        "id": "NqQM8eEKPT1l",
        "outputId": "3fc63b8b-e928-487d-b2f4-b2ff425718cf"
      },
      "execution_count": 19,
      "outputs": [
        {
          "output_type": "stream",
          "name": "stderr",
          "text": [
            "100%|██████████| 100/100 [18:20<00:00, 11.01s/it]\n"
          ]
        }
      ]
    },
    {
      "cell_type": "code",
      "source": [
        "best_model.eval()\n",
        "with torch.no_grad():\n",
        "    test_pred = best_model(\n",
        "        test_graph.x,\n",
        "        test_graph.edge_index,\n",
        "        torch.zeros(test_graph.edge_index.size(1), dtype=torch.long).to(device),\n",
        "    )\n",
        "    test_pred = test_pred[test_graph.edge_label_index[0]].squeeze().cpu().numpy()\n",
        "    test_labels = test_graph.edge_label.cpu().numpy()\n",
        "\n",
        "roc_auc = roc_auc_score(test_labels, test_pred)\n",
        "avg_precision = average_precision_score(test_labels, test_pred)\n",
        "\n",
        "roc_auc, avg_precision"
      ],
      "metadata": {
        "colab": {
          "base_uri": "https://localhost:8080/"
        },
        "id": "0geQg7oII-XI",
        "outputId": "bd40df61-f793-4368-c9f8-3b3849454992"
      },
      "execution_count": 20,
      "outputs": [
        {
          "output_type": "execute_result",
          "data": {
            "text/plain": [
              "(0.5744547759932375, 0.5671208788673803)"
            ]
          },
          "metadata": {},
          "execution_count": 20
        }
      ]
    }
  ]
}