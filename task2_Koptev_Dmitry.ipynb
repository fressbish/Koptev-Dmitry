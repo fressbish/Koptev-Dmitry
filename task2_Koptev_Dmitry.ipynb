{
  "cells": [
    {
      "cell_type": "markdown",
      "metadata": {
        "id": "view-in-github",
        "colab_type": "text"
      },
      "source": [
        "<a href=\"https://colab.research.google.com/github/fressbish/Koptev-Dmitry/blob/main/task2_Koptev_Dmitry.ipynb\" target=\"_parent\"><img src=\"https://colab.research.google.com/assets/colab-badge.svg\" alt=\"Open In Colab\"/></a>"
      ]
    },
    {
      "cell_type": "markdown",
      "source": [
        "## Коптев Дмитрий\n",
        "# Задача 2\n",
        "\n",
        "\n",
        "https://github.com/rustam-azimov/graph-course-itmo/blob/main/tasks/task2.md"
      ],
      "metadata": {
        "id": "XWQT7umB5Nru"
      },
      "id": "XWQT7umB5Nru"
    },
    {
      "cell_type": "code",
      "source": [
        "# pip install python-graphblas[default]"
      ],
      "metadata": {
        "id": "1Q-MrwEs4yPX"
      },
      "id": "1Q-MrwEs4yPX",
      "execution_count": 1,
      "outputs": []
    },
    {
      "cell_type": "code",
      "source": [
        "# pip install colorama"
      ],
      "metadata": {
        "id": "esKGQmmi5jRN"
      },
      "id": "esKGQmmi5jRN",
      "execution_count": 2,
      "outputs": []
    },
    {
      "cell_type": "code",
      "execution_count": 3,
      "id": "eb54251b",
      "metadata": {
        "id": "eb54251b"
      },
      "outputs": [],
      "source": [
        "import numpy as np\n",
        "import pandas as pd\n",
        "import random\n",
        "import networkx as nx\n",
        "import matplotlib.pyplot as plt\n",
        "import graphblas as gb\n",
        "from graphblas import Matrix, Vector, Scalar\n",
        "from graphblas import dtypes\n",
        "from graphblas import unary, binary, monoid, semiring\n",
        "from graphblas.io import mmread\n",
        "from colorama import Style"
      ]
    },
    {
      "cell_type": "markdown",
      "id": "9f871e11",
      "metadata": {
        "id": "9f871e11"
      },
      "source": [
        "## MSBFS-Levels\n",
        "\n",
        " Используя python-graphblas реализовать функцию обхода ориентированного графа (MSBFS-Levels) в ширину из нескольких заданных стартовых вершин.\n",
        " - Функция принимает представление графа, удобное для неё (загрузка, конвертация реализованы отдельно) и массив номеров стартовых вершин.\n",
        " - Функция возвращает массив пар: стартовая вершина, и массив (levels), где для каждой вершины указано, на каком уровне она достижима из этой стартовой.\n",
        " Стартовая вершина достижима на нулевом уровне, если вершина не достижима, то значение соответствующей ячейки сделайте равной -1."
      ]
    },
    {
      "cell_type": "code",
      "execution_count": 4,
      "id": "1e1b28ca",
      "metadata": {
        "id": "1e1b28ca"
      },
      "outputs": [],
      "source": [
        "def MSBFS_Levels(A, s):\n",
        "\n",
        "    # проверим граф на ориентированность\n",
        "    if A.nvals>0 and A.isequal(A.T):\n",
        "        return 'Неориентированный граф'\n",
        "\n",
        "    n = A.nrows\n",
        "    m = s.size\n",
        "    # построение матрицы\n",
        "    result = Matrix(dtypes.INT32, m, n)\n",
        "    f = Matrix(bool, m, n) # frontier\n",
        "    succ = Vector(bool, m)\n",
        "    for i in range(m):\n",
        "        f[i,s[i]] << True\n",
        "\n",
        "    level=0 # level in BFS traversal\n",
        "    while True:\n",
        "      # depth level\n",
        "      result(mask=f.V) << level\n",
        "      # next frontier\n",
        "      f(~result.S, replace=True) << f.mxm(A, semiring.lor_land)\n",
        "\n",
        "      true_false = True\n",
        "      for i in range(m):\n",
        "          # If next frontier is empty, we're done\n",
        "          succ[i] << f[i,:].reduce(monoid.lor, allow_empty=False)\n",
        "          if succ[i]:\n",
        "            true_false = False\n",
        "            break\n",
        "      if true_false:\n",
        "          break\n",
        "      level += 1\n",
        "\n",
        "    # Результат\n",
        "    res = {}\n",
        "    for i in range(m):\n",
        "        values=[]\n",
        "        for j in range(n):\n",
        "            if result[i,j].value is None:\n",
        "              # для недостижимых вершин значение -1\n",
        "              values.append(-1)\n",
        "            else:\n",
        "                values.append(result[i,j].value)\n",
        "        res[s[i]]=np.array(values)\n",
        "    return res"
      ]
    },
    {
      "cell_type": "markdown",
      "id": "71e62ac7",
      "metadata": {
        "id": "71e62ac7"
      },
      "source": [
        "## MSBFS-Parents\n",
        "\n",
        "Используя python-graphblas реализовать функцию обхода ориентированного графа (MSBFS-Parents) в ширину из нескольких заданных стартовых вершин.\n",
        "- Функция принимает представление графа, удобное для неё (загрузка, конвертация реализованы отдельно) и массив номеров стартовых вершин.\n",
        "- Функция возвращает массив пар: стартовая вершина, и массив (parents), где для каждой вершины графа указано, из какой вершины мы пришли в эту по кратчайшему пути из стартовой вершины. При этом для самой стартовой вершины такое значение взять равное -1, а для недостижимых вершин взять равное -2. При наличии нескольких возможных значений в массивах parents брать наименьшее."
      ]
    },
    {
      "cell_type": "code",
      "execution_count": 5,
      "id": "3f0033c7",
      "metadata": {
        "id": "3f0033c7"
      },
      "outputs": [],
      "source": [
        "def MSBFS_Parents(A, s):\n",
        "\n",
        "    # проверим граф на ориентированность\n",
        "    if A.nvals>0 and A.isequal(A.T):\n",
        "        return 'Неориентированный граф'\n",
        "\n",
        "    n = A.nrows\n",
        "    m = s.size\n",
        "    # построение матрицы\n",
        "    index_ramp = Matrix(dtypes.UINT64, m, n)\n",
        "    for i in range(m):\n",
        "        for j in range(n):\n",
        "            index_ramp[i,j] << j\n",
        "\n",
        "    parents = Matrix(dtypes.UINT64, m, n)\n",
        "    wavefront = Matrix(dtypes.UINT64, m, n)\n",
        "\n",
        "    # заполняем матрицу\n",
        "    for i in range(m):\n",
        "        parents[i,s[i]] << s[i]\n",
        "        wavefront[i, s[i]] << 1\n",
        "\n",
        "    while wavefront.nvals > 0:\n",
        "        # convert all stored values in wavefront to their 0−based index\n",
        "        wavefront << index_ramp.ewise_mult(wavefront, binary.first)\n",
        "        # list ensures wavefront values do not overwrite parents already stored.\n",
        "        wavefront(~parents.S, replace=True) << wavefront.mxm(A, semiring.min_first)\n",
        "        # current wave front with existing parents : parents += wavefront\n",
        "        parents(binary.plus) << wavefront\n",
        "\n",
        "    # Результат\n",
        "    res = {}\n",
        "    for i in range(m):\n",
        "        values=[]\n",
        "        for j in range(n):\n",
        "            if parents[i,j].value is None:\n",
        "              # для недостижимых вершин заполняем значением -2\n",
        "              values.append(-2)\n",
        "            elif j==s[i]:\n",
        "              # для самой стартовой вершины заполняем значением -1\n",
        "              values.append(-1)\n",
        "            else:\n",
        "                values.append(parents[i,j].value)\n",
        "        res[s[i]]=np.array(values)\n",
        "    return res"
      ]
    },
    {
      "cell_type": "markdown",
      "id": "9c18d64f",
      "metadata": {
        "id": "9c18d64f"
      },
      "source": [
        "## Тесты"
      ]
    },
    {
      "cell_type": "markdown",
      "id": "3e69a439",
      "metadata": {
        "id": "3e69a439"
      },
      "source": [
        "### Проверка на ориентированность графа"
      ]
    },
    {
      "cell_type": "code",
      "execution_count": 6,
      "id": "c65623eb",
      "metadata": {
        "colab": {
          "base_uri": "https://localhost:8080/",
          "height": 424
        },
        "id": "c65623eb",
        "outputId": "60f0b2be-4034-4670-a770-decc586c3381"
      },
      "outputs": [
        {
          "output_type": "display_data",
          "data": {
            "text/plain": [
              "<Figure size 640x480 with 1 Axes>"
            ],
            "image/png": "[encoded data removed]"
          },
          "metadata": {}
        },
        {
          "output_type": "stream",
          "name": "stdout",
          "text": [
            "Неориентированный граф\n"
          ]
        }
      ],
      "source": [
        "# неориентированный граф\n",
        "m = np.array([\n",
        "    [0, 1, 1, 1],\n",
        "    [1, 0, 0, 1],\n",
        "    [1, 0, 0, 0],\n",
        "    [1, 1, 0, 0]\n",
        "])\n",
        "matrix = gb.Matrix.from_dense(m, missing_value=0)\n",
        "gb.viz.draw(matrix)\n",
        "print(MSBFS_Levels(matrix, np.array([0, 1, 2, 3])))"
      ]
    },
    {
      "cell_type": "code",
      "execution_count": 7,
      "id": "33ba5eee",
      "metadata": {
        "colab": {
          "base_uri": "https://localhost:8080/"
        },
        "id": "33ba5eee",
        "outputId": "08c52a2c-c189-497a-826f-b6258b5633af"
      },
      "outputs": [
        {
          "output_type": "stream",
          "name": "stdout",
          "text": [
            "Неориентированный граф\n"
          ]
        }
      ],
      "source": [
        "print(MSBFS_Parents(matrix, np.array([0, 1, 2, 3])))"
      ]
    },
    {
      "cell_type": "code",
      "execution_count": 8,
      "id": "11bcba21",
      "metadata": {
        "colab": {
          "base_uri": "https://localhost:8080/",
          "height": 406
        },
        "id": "11bcba21",
        "outputId": "e7685085-d3b8-48bd-dac3-8fa645083581"
      },
      "outputs": [
        {
          "output_type": "display_data",
          "data": {
            "text/plain": [
              "<Figure size 640x480 with 1 Axes>"
            ],
            "image/png": "[encoded data removed]"
          },
          "metadata": {}
        }
      ],
      "source": [
        "# ориентированный граф\n",
        "m = np.array([\n",
        "    [0, 0, 1, 0],\n",
        "    [1, 0, 0, 1],\n",
        "    [1, 0, 0, 0],\n",
        "    [1, 0, 0, 0]\n",
        "])\n",
        "matrix = gb.Matrix.from_dense(m, missing_value=0)\n",
        "gb.viz.draw(matrix)"
      ]
    },
    {
      "cell_type": "code",
      "source": [
        "print(MSBFS_Levels(matrix, np.array([0, 1, 2, 3])))"
      ],
      "metadata": {
        "colab": {
          "base_uri": "https://localhost:8080/"
        },
        "id": "NNL5nbuCJ9qv",
        "outputId": "ca081a57-895a-42b4-ee24-c76371d3c5cd"
      },
      "id": "NNL5nbuCJ9qv",
      "execution_count": 9,
      "outputs": [
        {
          "output_type": "stream",
          "name": "stdout",
          "text": [
            "{0: array([ 0, -1,  1, -1]), 1: array([1, 0, 2, 1]), 2: array([ 1, -1,  0, -1]), 3: array([ 1, -1,  2,  0])}\n"
          ]
        }
      ]
    },
    {
      "cell_type": "code",
      "source": [
        "print(MSBFS_Parents(matrix, np.array([0, 1, 2, 3])))"
      ],
      "metadata": {
        "colab": {
          "base_uri": "https://localhost:8080/"
        },
        "id": "Dso-pZZiKIxo",
        "outputId": "7a18e075-6f0f-4e8d-a246-5339ace17fee"
      },
      "id": "Dso-pZZiKIxo",
      "execution_count": 10,
      "outputs": [
        {
          "output_type": "stream",
          "name": "stdout",
          "text": [
            "{0: array([-1, -2,  0, -2]), 1: array([ 1, -1,  0,  1]), 2: array([ 2, -2, -1, -2]), 3: array([ 3, -2,  0, -1])}\n"
          ]
        }
      ]
    },
    {
      "cell_type": "code",
      "source": [
        "# MSBFS-Levels\n",
        "\n",
        "# старт из 0 вершины: 1 и 3 вершины недостижимы, 2 вершина – 1 уровня\n",
        "assert (MSBFS_Levels(matrix, np.array([0, 1, 2, 3]))[0]==np.array([0, -1, 1, -1])).all()\n",
        "# старт из 1 вершины: 0 и 3 вершины – 1 уровня, 2 вершина – 2 уровня\n",
        "assert (MSBFS_Levels(matrix, np.array([0, 1, 2, 3]))[1]==np.array([1, 0, 2, 1])).all()\n",
        "# старт из 2 вершины: 1 и 3 вершины недостижимы, 0 вершина – 1 уровня\n",
        "assert (MSBFS_Levels(matrix, np.array([0, 1, 2, 3]))[2]==np.array([1, -1, 0, -1])).all()\n",
        "# старт из 3 вершины: 1 вершина недостижима, 0 вершина – 1 уровня, 2 вершина – 2 уровня\n",
        "assert (MSBFS_Levels(matrix, np.array([0, 1, 2, 3]))[3]==np.array([1, -1, 2, 0])).all()"
      ],
      "metadata": {
        "id": "HeMHumLiGncQ"
      },
      "id": "HeMHumLiGncQ",
      "execution_count": 11,
      "outputs": []
    },
    {
      "cell_type": "code",
      "source": [
        "# MSBFS-Parents\n",
        "\n",
        "# старт из 0 вершины: 1 и 3 вершины недостижимы, во 2 вершину попадаем через 0\n",
        "assert (MSBFS_Parents(matrix, np.array([0, 1, 2, 3]))[0]==np.array([-1, -2, 0, -2])).all()\n",
        "# старт из 1 вершины: в 0 и 3 попадаем через 1, в 2 попадаем через 0\n",
        "assert (MSBFS_Parents(matrix, np.array([0, 1, 2, 3]))[1]==np.array([1, -1, 0, 1])).all()\n",
        "# старт из 2 вершины: 1 и 3 вершины недостижимы, в 0 попадаем через 2\n",
        "assert (MSBFS_Parents(matrix, np.array([0, 1, 2, 3]))[2]==np.array([2, -2, -1, -2])).all()\n",
        "# старт из 3 вершины: 1 вершина недостижима, в 0 попадаем через 3, в 2 попадаем через 0\n",
        "assert (MSBFS_Parents(matrix, np.array([0, 1, 2, 3]))[3]==np.array([3, -2,  0, -1])).all()"
      ],
      "metadata": {
        "id": "zeDHQILoImfD"
      },
      "id": "zeDHQILoImfD",
      "execution_count": 12,
      "outputs": []
    }
  ],
  "metadata": {
    "kernelspec": {
      "display_name": "Python 3 (ipykernel)",
      "language": "python",
      "name": "python3"
    },
    "language_info": {
      "codemirror_mode": {
        "name": "ipython",
        "version": 3
      },
      "file_extension": ".py",
      "mimetype": "text/x-python",
      "name": "python",
      "nbconvert_exporter": "python",
      "pygments_lexer": "ipython3",
      "version": "3.11.5"
    },
    "colab": {
      "provenance": [],
      "include_colab_link": true
    }
  },
  "nbformat": 4,
  "nbformat_minor": 5
}