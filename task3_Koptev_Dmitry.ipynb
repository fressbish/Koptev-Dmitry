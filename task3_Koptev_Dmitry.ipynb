{
  "cells": [
    {
      "cell_type": "markdown",
      "metadata": {
        "id": "view-in-github",
        "colab_type": "text"
      },
      "source": [
        "<a href=\"https://colab.research.google.com/github/fressbish/Koptev-Dmitry/blob/main/task3_Koptev_Dmitry.ipynb\" target=\"_parent\"><img src=\"https://colab.research.google.com/assets/colab-badge.svg\" alt=\"Open In Colab\"/></a>"
      ]
    },
    {
      "cell_type": "markdown",
      "source": [
        "## Дмитрий Коптев\n",
        "#### Задание 3\n",
        "https://github.com/rustam-azimov/graph-course-itmo/blob/main/tasks/task3.md"
      ],
      "metadata": {
        "id": "nybgenuT2Kr_"
      },
      "id": "nybgenuT2Kr_"
    },
    {
      "cell_type": "code",
      "execution_count": 1,
      "id": "98acc6fa",
      "metadata": {
        "id": "98acc6fa"
      },
      "outputs": [],
      "source": [
        "# pip install python-graphblas[default]"
      ]
    },
    {
      "cell_type": "code",
      "execution_count": 2,
      "id": "a66b6eb9",
      "metadata": {
        "id": "a66b6eb9"
      },
      "outputs": [],
      "source": [
        "import numpy as np\n",
        "import pandas as pd\n",
        "from matplotlib import pyplot as plt\n",
        "import random\n",
        "import networkx as nx\n",
        "\n",
        "import graphblas as gb\n",
        "from graphblas.io import mmread\n",
        "from graphblas import Matrix, Vector, Scalar\n",
        "from graphblas import dtypes\n",
        "from graphblas import unary, binary, monoid, semiring"
      ]
    },
    {
      "cell_type": "markdown",
      "id": "808bdd0f",
      "metadata": {
        "id": "808bdd0f"
      },
      "source": [
        "# Bellman Ford"
      ]
    },
    {
      "cell_type": "markdown",
      "id": "50eb0747",
      "metadata": {
        "id": "50eb0747"
      },
      "source": [
        "Используя python-graphblas реализовать функцию поиска кратчайших путей в ориентированном графе из заданной вершины (Bellman–Ford).\n",
        "- Функция принимает представление графа, удобное для неё (загрузка, конвертация реализованы отдельно) и номер стартовой вершины\n",
        "- Функция возвращает массив, где для каждой вершины указано расстояние до неё от указанной стартовой вершины. Если вершина не достижима или кратчайшего пути для неё не существует, то значение соответствующей ячейки равно float('inf')."
      ]
    },
    {
      "cell_type": "code",
      "execution_count": 3,
      "id": "96be9f86",
      "metadata": {
        "id": "96be9f86"
      },
      "outputs": [],
      "source": [
        "def BellmanFord(A, vertex):\n",
        "    m = A.nrows\n",
        "    v = Vector(A.dtype, m)\n",
        "    v[vertex] << 0\n",
        "\n",
        "    w = v.dup()\n",
        "    for i in range(m - 1):\n",
        "        w_ = w.dup()\n",
        "        w(binary.min) << w.vxm(A, semiring.min_plus)\n",
        "        if w.isequal(w_):\n",
        "            break\n",
        "\n",
        "    # проверка отрицательных весов\n",
        "    w_ = w.dup()\n",
        "    w(binary.min) << w.vxm(A, semiring.min_plus)\n",
        "    if not w.isequal(w_):\n",
        "        return \"Отрицательный вес\"\n",
        "\n",
        "    res = []\n",
        "    for i in range(m):\n",
        "        # если вершина недостижима\n",
        "        if w[i].value is None:\n",
        "            res.append(float('inf'))\n",
        "        # если вершина достижима – расстояние от стартовой вершины до остальных\n",
        "        else:\n",
        "            res.append(w[i].value)\n",
        "    return res"
      ]
    },
    {
      "cell_type": "markdown",
      "id": "277295f9",
      "metadata": {
        "id": "277295f9"
      },
      "source": [
        "# Bellman Ford с несколькими стартовыми вершинами\n",
        "\n",
        "Используя python-graphblas реализовать функцию поиска кратчайших путей в ориентированном графе из нескольких заданных вершин, модифицировав предыдущий алгоритм.\n",
        "- Функция принимает представление графа, удобное для неё (загрузка, конвертация реализованы отдельно) и массив номеров стартовых вершин. <br><br>\n",
        "- Функция возвращает массив пар: вершина, и массив, где для каждой вершины указано расстояние до неё из указанной. Если вершина не достижима или кратчайшего пути для неё не существует, то значение соответствующей ячейки равно float('inf')."
      ]
    },
    {
      "cell_type": "code",
      "execution_count": 4,
      "id": "15e5053a",
      "metadata": {
        "id": "15e5053a"
      },
      "outputs": [],
      "source": [
        "def BellmanFordMultiple(A, arr):\n",
        "    n = A.ncols\n",
        "    m = arr.size\n",
        "    # матрица с начальными вершинами\n",
        "    v = Matrix(dtypes.INT32, m, n)\n",
        "    for i in range(m):\n",
        "      v[i, arr[i]] << 0\n",
        "\n",
        "    w = v.dup()\n",
        "    for i in range(n - 1):\n",
        "      w_ = w.dup()\n",
        "      for i in range(m):\n",
        "        w[i, :](binary.min) << w[i, :].vxm(A, semiring.min_plus)\n",
        "      if w.isequal(w_):\n",
        "        break\n",
        "\n",
        "    # проверка отрицательных весов\n",
        "    w_ = w.dup()\n",
        "    for i in range(m):\n",
        "      w[i,:](binary.min) << w[i,:].vxm(A, semiring.min_plus)\n",
        "    if not w.isequal(w_):\n",
        "      return \"Отрицательный вес\"\n",
        "\n",
        "    res = {}\n",
        "    for i in range(m):\n",
        "      values = []\n",
        "      for j in range(n):\n",
        "        # если вершина недостижима\n",
        "        if w[i, j].value is None:\n",
        "          values.append(float('inf'))\n",
        "          # если вершина достижима – расстояние от стартовой вершины до остальных\n",
        "        else:\n",
        "          values.append(w[i, j].value)\n",
        "      res[arr[i]] = (values)\n",
        "    return res"
      ]
    },
    {
      "cell_type": "markdown",
      "source": [
        "# Floyd–Warshall и вычисление транзитивного замыкания"
      ],
      "metadata": {
        "id": "6iBF_A-G5V6Z"
      },
      "id": "6iBF_A-G5V6Z"
    },
    {
      "cell_type": "markdown",
      "source": [
        "Используя python-graphblas реализовать две функции поиска кратчайших путей в ориентированном графе для всех пар вершин (Floyd–Warshall и вычисление транзитивного замыкания).\n",
        "- Функции принимают представление графа, удобное для неё (загрузка, конвертация реализованы отдельно).\n",
        "- Функции возвращают массив пар: вершина, и массив, где для каждой вершины указано расстояние до неё из указанной. Если вершина не достижима или кратчайшего пути для неё не существует, то значение соответствующей ячейки равно float('inf')."
      ],
      "metadata": {
        "id": "TOkUXQ6Q5UiX"
      },
      "id": "TOkUXQ6Q5UiX"
    },
    {
      "cell_type": "code",
      "execution_count": 5,
      "id": "5b563229",
      "metadata": {
        "id": "5b563229"
      },
      "outputs": [],
      "source": [
        "def FloydWarshall(M):\n",
        "\n",
        "    distance = M.dup()\n",
        "    n = M.nrows\n",
        "    distance_ = M.dup()\n",
        "\n",
        "    for k in range(n):\n",
        "      dist_col = Matrix(dtypes.INT32, n, n)\n",
        "      dist_row = Matrix(dtypes.INT32, n, n)\n",
        "      dist_col[:, k] = distance[:, k].dup()\n",
        "      dist_row[k, :] = distance[k, :].dup()\n",
        "      distance_ << dist_col.mxm(dist_row, semiring.min_plus)\n",
        "      distance << distance.ewise_add(distance_, op=\"min\")\n",
        "\n",
        "    # проверка отрицательных весов\n",
        "    distance1 = distance.dup()\n",
        "    distance_1 = distance_.dup()\n",
        "    dist_col1 = Matrix(dtypes.INT32, n, n)\n",
        "    dist_row1 = Matrix(dtypes.INT32, n, n)\n",
        "    dist_col1[:, k] = distance1[:, k].dup()\n",
        "    dist_row1[k, :] = distance1[k, :].dup()\n",
        "    distance_1 << dist_col1.mxm(dist_row1, semiring.min_plus)\n",
        "    distance1 << distance1.ewise_add(distance_1, op=\"min\")\n",
        "    if not distance1.isequal(distance):\n",
        "        return \"Отрицательный вес\"\n",
        "\n",
        "    res = {}\n",
        "    for i in range(n):\n",
        "      vals = []\n",
        "      for j in range(n):\n",
        "        if i == j:\n",
        "          vals.append(0)\n",
        "        elif distance[i, j].value is None:\n",
        "          vals.append(float('inf'))\n",
        "        else:\n",
        "          vals.append(distance[i, j].value)\n",
        "      res[i] = np.array(vals)\n",
        "    return res\n"
      ]
    },
    {
      "cell_type": "code",
      "execution_count": 6,
      "id": "9f7ac6e1",
      "metadata": {
        "id": "9f7ac6e1"
      },
      "outputs": [],
      "source": [
        "def TransitiveClosure(M):\n",
        "    rows = M.nrows\n",
        "    I = Matrix(dtypes.INT32, rows, rows)\n",
        "    for i in range(rows):\n",
        "      I[i, i] = 1\n",
        "    D = I.dup()\n",
        "\n",
        "    for i in range(rows):\n",
        "      D1 = D.dup()\n",
        "      D = D.mxm(m, semiring.min_plus).ewise_add(I, op=\"min\")\n",
        "      if D1.isequal(D):\n",
        "        break\n",
        "\n",
        "    D2 = D.dup()\n",
        "    D2 = D2.mxm(m, semiring.min_plus).ewise_add(I, op=\"min\")\n",
        "    if not D2.isequal(D):\n",
        "      return \"Отрицательный вес\"\n",
        "\n",
        "    res = {}\n",
        "    for i in range(rows):\n",
        "      vals = []\n",
        "      for j in range(rows):\n",
        "        if D[i, j].value is None:\n",
        "          vals.append(float('inf'))\n",
        "        elif i == j:\n",
        "          vals.append(0)\n",
        "        else:\n",
        "          vals.append(D[i, j].value - 1)\n",
        "      res[i] = np.array(vals)\n",
        "    return res"
      ]
    },
    {
      "cell_type": "markdown",
      "id": "1be1df67",
      "metadata": {
        "id": "1be1df67"
      },
      "source": [
        "# Тесты"
      ]
    },
    {
      "cell_type": "code",
      "source": [
        "# Проверка на отрицательные веса\n",
        "\n",
        "m = gb.Matrix.from_coo(\n",
        "    [1, 2, 0],\n",
        "    [2, 0, 1],\n",
        "    [-1,2,-2],\n",
        "    nrows=3,\n",
        "    ncols=3\n",
        ")\n",
        "gb.viz.draw(m)\n",
        "\n",
        "BellmanFord(m, 2), BellmanFordMultiple(m, np.array([0,2])), FloydWarshall(m), TransitiveClosure(m),"
      ],
      "metadata": {
        "colab": {
          "base_uri": "https://localhost:8080/",
          "height": 477
        },
        "id": "SiOLzjbABIEg",
        "outputId": "7e91942b-7c60-47fa-ec7b-53656c3483ff"
      },
      "id": "SiOLzjbABIEg",
      "execution_count": 7,
      "outputs": [
        {
          "output_type": "display_data",
          "data": {
            "text/plain": [
              "<Figure size 640x480 with 1 Axes>"
            ],
            "image/png": "[encoded data removed]"
          },
          "metadata": {}
        },
        {
          "output_type": "execute_result",
          "data": {
            "text/plain": [
              "('Отрицательный вес',\n",
              " 'Отрицательный вес',\n",
              " 'Отрицательный вес',\n",
              " 'Отрицательный вес')"
            ]
          },
          "metadata": {},
          "execution_count": 7
        }
      ]
    },
    {
      "cell_type": "code",
      "execution_count": 8,
      "id": "40341d3d",
      "metadata": {
        "colab": {
          "base_uri": "https://localhost:8080/",
          "height": 406
        },
        "id": "40341d3d",
        "outputId": "91073708-55d0-440a-93b0-d2d50544b0bc"
      },
      "outputs": [
        {
          "output_type": "display_data",
          "data": {
            "text/plain": [
              "<Figure size 640x480 with 1 Axes>"
            ],
            "image/png": "[encoded data removed]"
          },
          "metadata": {}
        }
      ],
      "source": [
        "data = [\n",
        "    [3, 0, 3, 5, 6, 0, 6, 1, 6, 2, 4, 1],\n",
        "    [0, 1, 2, 2, 2, 3, 3, 4, 4, 5, 5, 6],\n",
        "    [3, 2, 3, 1, 5, 3, 7, 8, 3, 1, 7, 4],\n",
        "]\n",
        "rows, cols, weights = data\n",
        "m = Matrix.from_coo(rows, cols, weights)\n",
        "gb.viz.draw(m)"
      ]
    },
    {
      "cell_type": "markdown",
      "source": [
        "### Bellman-Ford\n",
        "\n",
        "Из вершины 1:\n",
        "- до 0 вершины кратчайший путь 1->6->3->0 = 14\n",
        "- до 2 вершины кратчайший путь 1->6->2 = 9\n",
        "- до 3 вершины кратчайший путь 1->6->3 = 11\n",
        "- до 4 вершины кратчайший путь 1->6->4 = 7\n",
        "- до 5 вершины кратчайший путь 1->6->2->5 = 10\n",
        "- до 6 вершины кратчайший путь прямой = 4"
      ],
      "metadata": {
        "id": "w5D1yIGm8Qyy"
      },
      "id": "w5D1yIGm8Qyy"
    },
    {
      "cell_type": "code",
      "execution_count": 9,
      "id": "68001d6c",
      "metadata": {
        "colab": {
          "base_uri": "https://localhost:8080/"
        },
        "id": "68001d6c",
        "outputId": "a388fa43-9c3a-4a97-b186-d3c598dad8a1"
      },
      "outputs": [
        {
          "output_type": "stream",
          "name": "stdout",
          "text": [
            "BellmanFord:\n",
            "\n",
            "[14, 0, 9, 11, 7, 10, 4]\n"
          ]
        }
      ],
      "source": [
        "print('BellmanFord:', BellmanFord(m, 1), sep='\\n\\n')"
      ]
    },
    {
      "cell_type": "markdown",
      "id": "e7152555",
      "metadata": {
        "id": "e7152555"
      },
      "source": [
        "Из вершины 2:\n",
        "- достижима только вершина 5, путь = 1"
      ]
    },
    {
      "cell_type": "code",
      "execution_count": 10,
      "id": "e902ac91",
      "metadata": {
        "colab": {
          "base_uri": "https://localhost:8080/"
        },
        "id": "e902ac91",
        "outputId": "be32278e-1a0b-44be-a33e-a334c0ce4bb1"
      },
      "outputs": [
        {
          "output_type": "stream",
          "name": "stdout",
          "text": [
            "BellmanFord:\n",
            "\n",
            "[inf, inf, 0, inf, inf, 1, inf]\n"
          ]
        }
      ],
      "source": [
        "print('BellmanFord:', BellmanFord(m, 2), sep='\\n\\n')"
      ]
    },
    {
      "cell_type": "markdown",
      "id": "89e8aa7c",
      "metadata": {
        "id": "89e8aa7c"
      },
      "source": [
        "Из вершины 3:\n",
        "- до 0 и 2 вершин кратчайший путь прямой = 3 для обеих вершин\n",
        "- до 1 вершины кратчайший путь через 3->0->1 = 5\n",
        "- до 6 вершины кратчайший путь 3->0->1->6 = 9\n",
        "- до 4 вершины кратчайший путь 3->0->1->6->4 = 12\n",
        "- до 5 вершины кратчайший путь 3->2->5 = 4"
      ]
    },
    {
      "cell_type": "code",
      "execution_count": 11,
      "id": "19ebf9ab",
      "metadata": {
        "colab": {
          "base_uri": "https://localhost:8080/"
        },
        "id": "19ebf9ab",
        "outputId": "36e84246-ac02-4a97-83aa-566e83f1ccec"
      },
      "outputs": [
        {
          "output_type": "stream",
          "name": "stdout",
          "text": [
            "BellmanFord:\n",
            "\n",
            "[3, 5, 3, 0, 12, 4, 9]\n"
          ]
        }
      ],
      "source": [
        "print('BellmanFord:', BellmanFord(m, 3), sep='\\n\\n')"
      ]
    },
    {
      "cell_type": "markdown",
      "id": "9081357c",
      "metadata": {
        "id": "9081357c"
      },
      "source": [
        "### Сравним работу двух функций:"
      ]
    },
    {
      "cell_type": "code",
      "execution_count": 12,
      "id": "cf46f664",
      "metadata": {
        "colab": {
          "base_uri": "https://localhost:8080/"
        },
        "id": "cf46f664",
        "outputId": "46adec97-99db-4c24-b13f-10221cc3d25a"
      },
      "outputs": [
        {
          "output_type": "stream",
          "name": "stdout",
          "text": [
            "Bellman-Ford с одной вершиной:\n",
            " [0, 2, 6, 3, 9, 7, 6] \n",
            " [14, 0, 9, 11, 7, 10, 4] \n",
            " [inf, inf, 0, inf, inf, 1, inf] \n",
            " [3, 5, 3, 0, 12, 4, 9] \n",
            " [inf, inf, 8, inf, 0, 7, inf] \n",
            " [inf, inf, 1, inf, inf, 0, inf] \n",
            " [10, 12, 5, 7, 3, 6, 0]\n"
          ]
        }
      ],
      "source": [
        "print('Bellman-Ford с одной вершиной:\\n',\n",
        "      BellmanFord(m, 0), '\\n',\n",
        "      BellmanFord(m, 1), '\\n',\n",
        "      BellmanFord(m, 2), '\\n',\n",
        "      BellmanFord(m, 3), '\\n',\n",
        "      BellmanFord(m, 4), '\\n',\n",
        "      BellmanFord(m, 5), '\\n',\n",
        "      BellmanFord(m, 6))"
      ]
    },
    {
      "cell_type": "code",
      "execution_count": 13,
      "id": "9e5217f2",
      "metadata": {
        "colab": {
          "base_uri": "https://localhost:8080/"
        },
        "id": "9e5217f2",
        "outputId": "4d80ac99-fb46-48dc-d7ba-c647f1fbd075"
      },
      "outputs": [
        {
          "output_type": "stream",
          "name": "stdout",
          "text": [
            "Bellman-Ford с несколькими вершинами:\n",
            "\n",
            "(0, [0, 2, 6, 3, 9, 7, 6])\n",
            "(1, [14, 0, 9, 11, 7, 10, 4])\n",
            "(2, [inf, inf, 0, inf, inf, 1, inf])\n",
            "(3, [3, 5, 3, 0, 12, 4, 9])\n",
            "(4, [inf, inf, 8, inf, 0, 7, inf])\n",
            "(5, [inf, inf, 1, inf, inf, 0, inf])\n",
            "(6, [10, 12, 5, 7, 3, 6, 0])\n"
          ]
        }
      ],
      "source": [
        "print('Bellman-Ford с несколькими вершинами:\\n')\n",
        "for row in BellmanFordMultiple(m, np.array([0,1,2,3,4,5,6])).items():\n",
        "    print(row)"
      ]
    },
    {
      "cell_type": "code",
      "execution_count": 14,
      "id": "6c9efd07",
      "metadata": {
        "colab": {
          "base_uri": "https://localhost:8080/"
        },
        "id": "6c9efd07",
        "outputId": "2f00c7fb-848f-4a76-b585-b3d080b8930a"
      },
      "outputs": [
        {
          "output_type": "stream",
          "name": "stdout",
          "text": [
            "FloydWarshall:\n",
            "\n",
            "(0, array([0, 2, 6, 3, 9, 7, 6]))\n",
            "(1, array([14,  0,  9, 11,  7, 10,  4]))\n",
            "(2, array([inf, inf,  0., inf, inf,  1., inf]))\n",
            "(3, array([ 3,  5,  3,  0, 12,  4,  9]))\n",
            "(4, array([inf, inf,  8., inf,  0.,  7., inf]))\n",
            "(5, array([inf, inf,  1., inf, inf,  0., inf]))\n",
            "(6, array([10, 12,  5,  7,  3,  6,  0]))\n"
          ]
        }
      ],
      "source": [
        "print('FloydWarshall:\\n')\n",
        "for row in FloydWarshall(m).items():\n",
        "    print(row)"
      ]
    },
    {
      "cell_type": "code",
      "execution_count": 15,
      "id": "a33a020a",
      "metadata": {
        "colab": {
          "base_uri": "https://localhost:8080/"
        },
        "id": "a33a020a",
        "outputId": "2920fcfa-fe5c-41c3-fd34-a629a5c0b643"
      },
      "outputs": [
        {
          "output_type": "stream",
          "name": "stdout",
          "text": [
            "TransitiveClosure:\n",
            "\n",
            "(0, array([0, 2, 6, 3, 9, 7, 6]))\n",
            "(1, array([14,  0,  9, 11,  7, 10,  4]))\n",
            "(2, array([inf, inf,  0., inf, inf,  1., inf]))\n",
            "(3, array([ 3,  5,  3,  0, 12,  4,  9]))\n",
            "(4, array([inf, inf,  8., inf,  0.,  7., inf]))\n",
            "(5, array([inf, inf,  1., inf, inf,  0., inf]))\n",
            "(6, array([10, 12,  5,  7,  3,  6,  0]))\n"
          ]
        }
      ],
      "source": [
        "print('TransitiveClosure:\\n')\n",
        "for row in TransitiveClosure(m).items():\n",
        "    print(row)"
      ]
    },
    {
      "cell_type": "code",
      "execution_count": 16,
      "id": "4da9d246",
      "metadata": {
        "id": "4da9d246"
      },
      "outputs": [],
      "source": [
        "assert (BellmanFordMultiple(m, np.array([1,2,3]))[1] == BellmanFord(m, 1))\n",
        "assert (BellmanFordMultiple(m, np.array([1,2,3]))[2] == BellmanFord(m, 2))\n",
        "assert (FloydWarshall(m)[3] == BellmanFord(m, 3)).all()\n",
        "assert (FloydWarshall(m)[4] == BellmanFord(m, 4)).all()\n",
        "assert (FloydWarshall(m)[5] == TransitiveClosure(m)[5]).all()\n",
        "assert (FloydWarshall(m)[6] == TransitiveClosure(m)[6]).all()"
      ]
    },
    {
      "cell_type": "code",
      "execution_count": 16,
      "id": "a55ef129",
      "metadata": {
        "id": "a55ef129"
      },
      "outputs": [],
      "source": []
    }
  ],
  "metadata": {
    "kernelspec": {
      "display_name": "Python 3 (ipykernel)",
      "language": "python",
      "name": "python3"
    },
    "language_info": {
      "codemirror_mode": {
        "name": "ipython",
        "version": 3
      },
      "file_extension": ".py",
      "mimetype": "text/x-python",
      "name": "python",
      "nbconvert_exporter": "python",
      "pygments_lexer": "ipython3",
      "version": "3.11.5"
    },
    "colab": {
      "provenance": [],
      "include_colab_link": true
    }
  },
  "nbformat": 4,
  "nbformat_minor": 5
}